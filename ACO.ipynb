{
  "nbformat": 4,
  "nbformat_minor": 0,
  "metadata": {
    "colab": {
      "provenance": [],
      "authorship_tag": "ABX9TyMONLbXsD7uXovRbiYcVBct",
      "include_colab_link": true
    },
    "kernelspec": {
      "name": "python3",
      "display_name": "Python 3"
    },
    "language_info": {
      "name": "python"
    }
  },
  "cells": [
    {
      "cell_type": "markdown",
      "metadata": {
        "id": "view-in-github",
        "colab_type": "text"
      },
      "source": [
        "<a href=\"https://colab.research.google.com/github/mgxbreu/collective_intelligence/blob/main/ACO.ipynb\" target=\"_parent\"><img src=\"https://colab.research.google.com/assets/colab-badge.svg\" alt=\"Open In Colab\"/></a>"
      ]
    },
    {
      "cell_type": "code",
      "execution_count": null,
      "metadata": {
        "id": "UnLprpCWFBzK"
      },
      "outputs": [],
      "source": [
        "import numpy as np\n",
        "import networkx as nx"
      ]
    },
    {
      "cell_type": "code",
      "source": [
        "class Graph:\n",
        "\n",
        "  def __init__(self, node_count):\n",
        "    self.matrix = np.full((node_count, node_count), np.inf)\n",
        "  \n",
        "  def add_edge(self, first_index, second_index, distance, is_directed=False):\n",
        "    self.matrix[first_index, second_index] = distance\n",
        "    if not is_directed: self.matrix[second_index, first_index] = distance\n",
        "  \n",
        "  def to_networkx(self):\n",
        "    graph_x = nx.Graph()\n",
        "    for row in range(self.matrix.shape[0]):\n",
        "      for column in range(self.matrix.shape[1]):\n",
        "        if self.matrix[row, column] != np.inf:\n",
        "          graph_x.add_edge(row, column, weight=self.matrix[row, column])\n",
        "    position = nx.spring_layout(graph_x)\n",
        "    labels = nx.get_edge_attributes(graph_x, 'weight')\n",
        "    nx.draw_networkx(graph_x, pos=position, with_labels=True)\n",
        "    nx.draw_networkx_edge_labels(graph_x, position, edge_labels=labels)\n"
      ],
      "metadata": {
        "id": "q_Eu3y3ZFDo3"
      },
      "execution_count": null,
      "outputs": []
    },
    {
      "cell_type": "code",
      "source": [
        "nodes = 5\n",
        "graph = Graph(nodes)\n",
        "graph.add_edge(0,1,4)\n",
        "graph.add_edge(0,2,8)\n",
        "graph.add_edge(0,3,4)\n",
        "graph.add_edge(0,4,1)\n",
        "graph.add_edge(1,2,3)\n",
        "graph.add_edge(1,3,2)\n",
        "graph.add_edge(1,4,2)\n",
        "graph.add_edge(2,3,7)\n",
        "graph.add_edge(2,4,9)\n",
        "graph.add_edge(3,4,3)"
      ],
      "metadata": {
        "id": "966MsGHBFGKw"
      },
      "execution_count": null,
      "outputs": []
    },
    {
      "cell_type": "code",
      "source": [
        "graph.matrix\n",
        "graph.to_networkx()"
      ],
      "metadata": {
        "colab": {
          "base_uri": "https://localhost:8080/",
          "height": 248
        },
        "id": "qQdV2WN0Fk_p",
        "outputId": "83e22aa6-5246-4c5a-eff2-0b16b1dc0fbe"
      },
      "execution_count": null,
      "outputs": [
        {
          "output_type": "display_data",
          "data": {
            "text/plain": [
              "<Figure size 432x288 with 1 Axes>"
            ],
            "image/png": "[encoded data removed]"
          },
          "metadata": {}
        }
      ]
    },
    {
      "cell_type": "code",
      "source": [
        "distance= graph.matrix\n",
        "# print(distance)\n",
        "#tau\n",
        "pheromones = np.ones(distance.shape)\n",
        "#tau_delta\n",
        "pheromones_quantity = np.zeros(distance.shape)\n",
        "neta = 1/distance\n",
        "\n",
        "## Hyper params\n",
        "alpha = 1\n",
        "beta = 1\n",
        "#evaporation rate\n",
        "rho = 0.5\n",
        "max_iterations = 4\n",
        "ants = 2\n",
        "\n",
        "initial_state = 0\n",
        "\n",
        "\n",
        "for iteration in range(max_iterations):\n",
        "  for ant in range(ants):\n",
        "    path = []\n",
        "    unvisited = [node for node in range(distance.shape[0])]\n",
        "    current_node = initial_state\n",
        "    unvisited.remove(current_node)\n",
        "    path.append(current_node)\n",
        "    while len(unvisited) != 0:\n",
        "      weight = pheromones**alpha * neta**beta\n",
        "      unvisited_weight_matrix = weight[unvisited]\n",
        "      likelihood = unvisited_weight_matrix/sum(unvisited_weight_matrix)\n",
        "      current_node = np.random.choice(unvisited, p=likelihood[:, current_node])\n",
        "      unvisited.remove(current_node)\n",
        "      path.append(current_node)\n",
        "    path.append(initial_state)\n",
        "    total_distance = 0\n",
        "    for node in range(len(path)-1):\n",
        "      total_distance += distance[path[node], path[node + 1]]\n",
        "\n",
        "    total_pheromones = 1/total_distance\n",
        "    for node in range(len(path)-1):\n",
        "      pheromones_quantity[path[node], path[node + 1]] += total_pheromones\n",
        "    # print(f\"Ant {ant} path: {path}. Total distance: {total_distance}. Total pheromones: {total_pheromones}\")\n",
        "    \n",
        "  pheromones = (1 - rho) * pheromones + pheromones_quantity\n",
        "  "
      ],
      "metadata": {
        "colab": {
          "base_uri": "https://localhost:8080/"
        },
        "id": "8dTTtnveGIBH",
        "outputId": "bf11a618-e40e-4eab-cdee-1300eb7f984c"
      },
      "execution_count": null,
      "outputs": [
        {
          "output_type": "stream",
          "name": "stderr",
          "text": [
            "<ipython-input-68-186969daec90>:30: RuntimeWarning: invalid value encountered in true_divide\n",
            "  likelihood = unvisited_weight_matrix/sum(unvisited_weight_matrix)\n"
          ]
        }
      ]
    },
    {
      "cell_type": "code",
      "source": [
        "best_route = list(pheromones.argmax(axis=1))"
      ],
      "metadata": {
        "id": "Px11enioGp9w"
      },
      "execution_count": null,
      "outputs": []
    },
    {
      "cell_type": "code",
      "source": [
        "best_route_path = list(zip([node for node in range(distance.shape[0])], best_route))"
      ],
      "metadata": {
        "id": "rFRpjMyDGtql"
      },
      "execution_count": null,
      "outputs": []
    },
    {
      "cell_type": "code",
      "source": [
        "best_route_path"
      ],
      "metadata": {
        "colab": {
          "base_uri": "https://localhost:8080/"
        },
        "id": "ugzJDOugGuws",
        "outputId": "c634907d-10dc-4a98-8082-ed797abb34ee"
      },
      "execution_count": null,
      "outputs": [
        {
          "output_type": "execute_result",
          "data": {
            "text/plain": [
              "[(0, 4), (1, 2), (2, 0), (3, 1), (4, 3)]"
            ]
          },
          "metadata": {},
          "execution_count": 71
        }
      ]
    }
  ]
}